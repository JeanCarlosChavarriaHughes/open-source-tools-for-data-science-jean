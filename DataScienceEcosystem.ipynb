{
  "metadata": {
    "kernelspec": {
      "name": "python",
      "display_name": "Python (Pyodide)",
      "language": "python"
    },
    "language_info": {
      "codemirror_mode": {
        "name": "python",
        "version": 3
      },
      "file_extension": ".py",
      "mimetype": "text/x-python",
      "name": "python",
      "nbconvert_exporter": "python",
      "pygments_lexer": "ipython3",
      "version": "3.8"
    }
  },
  "nbformat_minor": 5,
  "nbformat": 4,
  "cells": [
    {
      "id": "8cb1203f-6838-43a9-ba16-9e9cb6fa4276",
      "cell_type": "markdown",
      "source": "# Data Science Tools and Ecosystem",
      "metadata": {}
    },
    {
      "id": "2fc82607-2373-4691-a1de-ca5a9e70de09",
      "cell_type": "markdown",
      "source": "In this notebook, Data Science Tools and Ecosystem are summarized.",
      "metadata": {}
    },
    {
      "id": "a3d9e651-a3ef-4118-a361-bdd0d2b3643a",
      "cell_type": "markdown",
      "source": "**Objectives:**\n- List popular languages for Data Science\n- Create a Jupyter Notebook with markdown and code cells\n- List examples of languages, libraries and tools used in Data Science\n- Share your Jupyter Notebook publicly on GitHub\n- Evaluate notebooks submitted by your peers using the provided rubric\n- Demonstrate proficiency in Data Science toolkit knowledge",
      "metadata": {}
    },
    {
      "id": "302e0e97-f653-43df-b55d-2b5721fc1375",
      "cell_type": "markdown",
      "source": "Some of the popular languages that Data Scientists use are:\n1. Python\n2. R\n3. C++\n4. Javascript\n5. Java",
      "metadata": {}
    },
    {
      "id": "f51d8cee-bfe1-4da0-9889-fff2f676bb64",
      "cell_type": "markdown",
      "source": "Some of the commonly used libraries used by Data Scientists include:\n1. scikit-learn\n2. matplotlib\n3. pandas",
      "metadata": {}
    },
    {
      "id": "49428df3-6a40-420a-a74b-29fe1b6675a0",
      "cell_type": "markdown",
      "source": "| Data Science Tools |\n| :------------------ |\n| Jupyter Notebooks |\n| Google CoLab |\n| R Studio |\n| GitHub |",
      "metadata": {}
    },
    {
      "id": "ac19128d-c416-4bee-bf2d-292f0ee1b7aa",
      "cell_type": "markdown",
      "source": "### Below are a few examples of evaluating arithmetic expressions in Python.",
      "metadata": {}
    },
    {
      "id": "35890a1c-13d7-40da-9d64-f007a1f201b1",
      "cell_type": "code",
      "source": "# This a simple arithmetic expression to mutiply then add integers\n(3*4)+5",
      "metadata": {
        "trusted": true
      },
      "outputs": [
        {
          "execution_count": 1,
          "output_type": "execute_result",
          "data": {
            "text/plain": "17"
          },
          "metadata": {}
        }
      ],
      "execution_count": 1
    },
    {
      "id": "0dd2a883-4b7d-4583-9655-c1ba77983df8",
      "cell_type": "code",
      "source": "# This will convert 200 minutes to hours by diving by 60\n200/60",
      "metadata": {
        "trusted": true
      },
      "outputs": [
        {
          "execution_count": 2,
          "output_type": "execute_result",
          "data": {
            "text/plain": "3.3333333333333335"
          },
          "metadata": {}
        }
      ],
      "execution_count": 2
    },
    {
      "id": "61cd7b82-2a07-47eb-8466-9feee75b8991",
      "cell_type": "markdown",
      "source": "## Author\nJeanCarlos Chavarria Hughes",
      "metadata": {}
    }
  ]
}